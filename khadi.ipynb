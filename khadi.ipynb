{
 "cells": [
  {
   "cell_type": "code",
   "execution_count": 2,
   "metadata": {},
   "outputs": [
    {
     "name": "stdout",
     "output_type": "stream",
     "text": [
      "le volume du cone est  261.79938779914943\n"
     ]
    }
   ],
   "source": [
    "from math import pi\n",
    "h =10\n",
    "r = 5\n",
    "volume_cone = 1/3*math.pi*r*r*h\n",
    "print(\"le volume du cone est \",volume_cone)\n"
   ]
  },
  {
   "cell_type": "code",
   "execution_count": null,
   "metadata": {},
   "outputs": [],
   "source": [
    "n=100\n",
    "#OU \n",
    "n=input (\"Entrer un entier\")\n",
    "n=int(n)\n",
    "sn=1**3 +2 **3...n\n",
    "\n",
    "compteur = 1\n",
    "while compteur < n:\n",
    "      printf (\"cpmteur = \",compteur )\n",
    "        compteur=compteur+1 #compteur += 1"
   ]
  }
 ],
 "metadata": {
  "kernelspec": {
   "display_name": "Python 3",
   "language": "python",
   "name": "python3"
  },
  "language_info": {
   "codemirror_mode": {
    "name": "ipython",
    "version": 3
   },
   "file_extension": ".py",
   "mimetype": "text/x-python",
   "name": "python",
   "nbconvert_exporter": "python",
   "pygments_lexer": "ipython3",
   "version": "3.7.6"
  }
 },
 "nbformat": 4,
 "nbformat_minor": 4
}
